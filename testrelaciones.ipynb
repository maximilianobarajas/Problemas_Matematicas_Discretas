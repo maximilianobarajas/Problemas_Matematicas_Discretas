{
  "nbformat": 4,
  "nbformat_minor": 0,
  "metadata": {
    "colab": {
      "provenance": []
    },
    "kernelspec": {
      "name": "python3",
      "display_name": "Python 3"
    },
    "language_info": {
      "name": "python"
    }
  },
  "cells": [
    {
      "cell_type": "code",
      "source": [
        "def simetrica(arr,x,y):\n",
        " if(x==y):\n",
        "   print(\"Inicializando análisis de simetría\")\n",
        "   print(\"La traspuesta de la matriz es:\")\n",
        "   contador=0\n",
        "   for k in range(x):\n",
        "     for l in range(y):\n",
        "        print(mat[l][k], end=\" \") \n",
        "     print()\n",
        "   if(x==y):\n",
        "     for i in range(x):\n",
        "       for j in range(y):\n",
        "         if(arr[i][j]!=arr[j][i]):\n",
        "           print(\"La coordenada {\", i ,\",\" ,j,\"}\", \"no coincide con la matríz traspuesta\")\n",
        "           contador=contador+1\n",
        "   else:\n",
        "     print(\"La traspuesta no coincide con las dimensiones de la matriz original\")\n",
        "     contador=contador+1\n",
        "   if(contador==0):\n",
        "     print(\"Es simétrica\")\n",
        "   else:\n",
        "    print(\"No es simétrica\")\n",
        " else:\n",
        "  print(\"No es cuadrada por lo tanto no puede ser simmétrica\")"
      ],
      "metadata": {
        "id": "mf3Qp2vJx5Sr"
      },
      "execution_count": null,
      "outputs": []
    },
    {
      "cell_type": "code",
      "source": [
        "def reflexiva(arr,x,y):\n",
        "  if(x==y):\n",
        "   print(\"Iniciando análisis reflexivo\")\n",
        "   contador=0\n",
        "   for i in range(y):\n",
        "     for j in range(x):\n",
        "       if(i==j):\n",
        "         if(arr[i][j]==1):\n",
        "           print(\"La coordenada {\", i ,\",\" ,j,\"}\", \"tiene valor 1\")\n",
        "         else:\n",
        "           print(\"La coordenada {\", i ,\",\" ,j,\"}\", \"no es reflexiva puesto que vale 0\")\n",
        "           contador=contador+1\n",
        "   if (contador!=0):\n",
        "     print(\"No es reflexiva\")\n",
        "   else:\n",
        "     print(\"Es reflexiva\")\n",
        "  else:\n",
        "    print(\"No puede ser reflexiva puesto que no es cuadrada\")"
      ],
      "metadata": {
        "id": "xlon2eCgu-vp"
      },
      "execution_count": null,
      "outputs": []
    },
    {
      "cell_type": "code",
      "source": [
        "import numpy as np\n",
        "def transitiva(arr,x,y):\n",
        "  if(x==y):\n",
        "   contador=0\n",
        "   print(\"Iniciando análisis de transitividad\")\n",
        "   print(\"La matriz al cuadrado resulta en la siguiente matriz\")\n",
        "   s=np.dot(arr,arr)\n",
        "   print(s)\n",
        "   for i in range(x):\n",
        "     for j in range(y):\n",
        "       if(s[i][j]!=0):\n",
        "         if(arr[i][j]==0):\n",
        "           print(\"No es transitiva puesto que la matriz elevada al cuadrado en la posición {\",i,\",\",j,\"}\",\"es distinta de 0 mientras que la original no lo es\")\n",
        "         else:\n",
        "           print(\"La coordenada {\",i,\",\",j,\"}\", \" en la matriz al cuadrado es distinta de 0 y la original también\")\n",
        "           contador=+1\n",
        "   if(contador!=0):\n",
        "     print(\"La matriz es transitiva\")\n",
        "   else:\n",
        "     print(\"No es transitiva\")\n",
        "  else:\n",
        "    print(\"No puede ser transitiva puesto que no es cuadrad\")"
      ],
      "metadata": {
        "id": "54hYwnNa8BiG"
      },
      "execution_count": null,
      "outputs": []
    },
    {
      "cell_type": "code",
      "source": [
        "def antisimetria(arr,x,y):\n",
        "  if(x==y):\n",
        "   print(\"Iniciamos análisis de antisimetria\")\n",
        "   print(\"No debemos olvidar que basta con que encontremos en la matriz una coordenada que al igual que su traspuesta no sean ambos 1\")\n",
        "   if(x==y):\n",
        "    antisimetriaa=False\n",
        "    for i in range (x):\n",
        "      for j in range (y):\n",
        "        if(arr[i][j]== arr[j][i] and arr[i][j]!=1):\n",
        "          antisimetriaa=False\n",
        "        else:\n",
        "          antisimetriaa=True\n",
        "    if(antisimetriaa):\n",
        "      print(\"Es antisimétrica\")\n",
        "    else:\n",
        "      print(\"No es antisimétrica\")\n",
        "  else:\n",
        "    print(\"Es anntisimétrica puesto que no es cuadrada\")"
      ],
      "metadata": {
        "id": "gRvYmYdFHwLy"
      },
      "execution_count": null,
      "outputs": []
    },
    {
      "cell_type": "code",
      "source": [
        "import numpy as np\n",
        "import networkx as nx\n",
        "import pylab as plt\n",
        "print(\"Bienvenido\")\n",
        "x=int(input(\"Introduce el número de renglones:\"))\n",
        "y=int(input(\"Introduce el número de columnas: \"))\n",
        "mat=[] \n",
        "print(\"Introduce los renglones\")\n",
        "for i in range(x):   \n",
        "    r = []  \n",
        "    for j in range(y):   \n",
        "        r.append(int(input()))  \n",
        "    mat.append(r)  \n",
        "for k in range(x):  \n",
        "    for l in range(y):  \n",
        "        print(mat[k][l], end=\" \")  \n",
        "    print()  \n",
        "reflexiva(mat,x,y)\n",
        "simetrica(mat,x,y)\n",
        "antisimetria(mat,x,y)\n",
        "transitiva(mat,x,y)\n",
        "if(x==y):\n",
        " A=np.array(mat)\n",
        " G=nx.DiGraph(A)\n",
        " nx.draw(G)\n",
        " plt.show()"
      ],
      "metadata": {
        "colab": {
          "base_uri": "https://localhost:8080/",
          "height": 1000
        },
        "id": "kvTyNrhqyBfr",
        "outputId": "e7d3730b-ce21-4718-aed9-8e189f19cae1"
      },
      "execution_count": null,
      "outputs": [
        {
          "output_type": "stream",
          "name": "stdout",
          "text": [
            "Bienvenido\n",
            "Introduce el número de renglones:3\n",
            "Introduce el número de columnas: 3\n",
            "Introduce los renglones\n",
            "1\n",
            "1\n",
            "0\n",
            "1\n",
            "1\n",
            "0\n",
            "0\n",
            "1\n",
            "1\n",
            "1 1 0 \n",
            "1 1 0 \n",
            "0 1 1 \n",
            "Iniciando análisis reflexivo\n",
            "La coordenada { 0 , 0 } tiene valor 1\n",
            "La coordenada { 1 , 1 } tiene valor 1\n",
            "La coordenada { 2 , 2 } tiene valor 1\n",
            "Es reflexiva\n",
            "Inicializando análisis de simetría\n",
            "La traspuesta de la matriz es:\n",
            "1 1 0 \n",
            "1 1 1 \n",
            "0 0 1 \n",
            "La coordenada { 1 , 2 } no coincide con la matríz traspuesta\n",
            "La coordenada { 2 , 1 } no coincide con la matríz traspuesta\n",
            "No es simétrica\n",
            "Iniciamos análisis de antisimetria\n",
            "No debemos olvidar que basta con que encontremos en la matriz una coordenada que al igual que su traspuesta no sean ambos 1\n",
            "Es antisimétrica\n",
            "Iniciando análisis de transitividad\n",
            "La matriz al cuadrado resulta en la siguiente matriz\n",
            "[[2 2 0]\n",
            " [2 2 0]\n",
            " [1 2 1]]\n",
            "La coordenada { 0 , 0 }  en la matriz al cuadrado es distinta de 0 y la original también\n",
            "La coordenada { 0 , 1 }  en la matriz al cuadrado es distinta de 0 y la original también\n",
            "La coordenada { 1 , 0 }  en la matriz al cuadrado es distinta de 0 y la original también\n",
            "La coordenada { 1 , 1 }  en la matriz al cuadrado es distinta de 0 y la original también\n",
            "No es transitiva puesto que la matriz elevada al cuadrado en la posición { 2 , 0 } es distinta de 0 mientras que la original no lo es\n",
            "La coordenada { 2 , 1 }  en la matriz al cuadrado es distinta de 0 y la original también\n",
            "La coordenada { 2 , 2 }  en la matriz al cuadrado es distinta de 0 y la original también\n",
            "La matriz es transitiva\n"
          ]
        },
        {
          "output_type": "display_data",
          "data": {
            "text/plain": [
              "<Figure size 432x288 with 1 Axes>"
            ],
            "image/png": "[encoded data removed]"
          },
          "metadata": {}
        }
      ]
    },
    {
      "cell_type": "code",
      "source": [
        "def antisimetrica(arr,x,y): \n",
        " conta=True\n",
        " conta2=0\n",
        " for i in range(0, x):  \n",
        "        for j in range(0, y):  \n",
        "            if(i == j and arr[i][j] != 1):  \n",
        "                conta = False;  \n",
        "                break;  \n",
        "            if(i != j and arr[i][j] != 0):  \n",
        "                conta = False;  \n",
        "                break;  \n",
        " if(conta):    \n",
        "        conta2=1  \n",
        " print(\"Iniciando análisis de antisimetria\")\n",
        " print(\"La traspuesta de la matriz es:\")\n",
        " for k in range(x):\n",
        "    for l in range(y):\n",
        "       print(arr[l][k], end=\" \") \n",
        "    print()\n",
        " if(x!=y):\n",
        "   print(\"La matriz es antsimétrica puesto que no es cuadrada\")\n",
        " if(x==y):\n",
        "    for i in range(x):\n",
        "      for j in range(y):\n",
        "        if(arr[i][j]!=arr[j][i]):\n",
        "          print(\"La matriz es antisimétrica puesto que no coinciden las coordenadas {\", i ,\",\" ,j,\"}\", \"en la matriz traspuesta y la original\")\n",
        "          contador=1\n",
        "        elif(conta2==1):\n",
        "          print(\"Se trata de la matriz identidad por lo tanto es antisimétrica\")"
      ],
      "metadata": {
        "id": "8MQnoy4z1PCk"
      },
      "execution_count": null,
      "outputs": []
    }
  ]
}